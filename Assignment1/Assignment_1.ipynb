{
 "cells": [
  {
   "cell_type": "markdown",
   "metadata": {
    "colab_type": "text",
    "id": "5zmGUGZf4kGG"
   },
   "source": [
    "# Introduction to Data\n",
    "#####    Practical assignment 1"
   ]
  },
  {
   "cell_type": "markdown",
   "metadata": {
    "colab_type": "text",
    "id": "xs05f-Q24kGI"
   },
   "source": [
    "\n",
    "This practical assignment need to be handed in on Brightspace before the deadline, 16:00 14/04/2022. Make sure that every cell is executed/compiled and renamed to \n",
    "\n",
    "**Assignment1_Surname1_Surname2.ipynb**\n",
    "\n",
    "before submitting. For questions contact your TA during the workgroup, or via mail. Depending on whether all questions are sufficiently answered and if enough effort has been put into the assignment, you will get pass (all questions answered and all topics understood well) or fail (not enough effort has been put into this assignment).\n",
    "\n"
   ]
  },
  {
   "cell_type": "markdown",
   "metadata": {
    "colab_type": "text",
    "id": "OUrH7_OK4kGJ"
   },
   "source": [
    "**Name 1:** Name Surname - student number\n",
    "\n",
    "**Name 2:** Name Surname - student number"
   ]
  },
  {
   "cell_type": "markdown",
   "metadata": {
    "colab_type": "text",
    "id": "Nqe_1vgV4kGK"
   },
   "source": [
    "### Dataset"
   ]
  },
  {
   "cell_type": "markdown",
   "metadata": {
    "colab_type": "text",
    "id": "sfOVSOK34kGL"
   },
   "source": [
    "The aim of this assignment is to learn how to apply the theoretical knowledge you gained in the book and the video clips to real datasets. Today, you will learn how to load data, how datasets are organized, how you can summarize data and how you can plot data. To help us with this we will use the dataset `BikeRental.csv` (modified from original source).\n",
    "\n",
    "Bikes can be rented and returned at specific points in the city, and the number of bikes that are rented on a day depends on a number of factors. Some potential factors are given in this dataset, which we will visualize in some plots. First we need to import some libraries."
   ]
  },
  {
   "cell_type": "code",
   "execution_count": null,
   "metadata": {
    "colab": {},
    "colab_type": "code",
    "id": "uzjVn3Lw4kGM"
   },
   "outputs": [],
   "source": [
    "import pandas as pd\n",
    "import numpy as np\n",
    "import matplotlib.pyplot as plt\n",
    "import seaborn as sns\n",
    "\n",
    "sns.set_style(\"whitegrid\")"
   ]
  },
  {
   "cell_type": "code",
   "execution_count": null,
   "metadata": {},
   "outputs": [],
   "source": [
    "# If you are working with Google Colab, run this cell to upload your data\n",
    "from google.colab import files\n",
    "uploaded = files.upload()"
   ]
  },
  {
   "cell_type": "markdown",
   "metadata": {
    "colab_type": "text",
    "id": "Kx-_Uj5J4kGQ"
   },
   "source": [
    "For importing data we will use the <span style=\"color:red\">Pandas</span> library, which has a lot of tools that are useful for data analysis. When reading in data, Pandas will create a <span style=\"color:red\">DataFrame</span>. A Pandas DataFrame is similar to a python dictionairy, in the sense that each column name is a key, and the data below it are the values. The columns in the DataFrame represent the different variables and the rows represent the different cases (observations). We can see all the variables in the DataFrame by printing all the `key` values, or printing the `head/tail` of the file. One key with all its values is called a Series, this is one column in the DataFrame."
   ]
  },
  {
   "cell_type": "code",
   "execution_count": null,
   "metadata": {
    "colab": {},
    "colab_type": "code",
    "id": "_IR5ybxu4kGR",
    "outputId": "0e51f87a-494d-43a9-db11-9367bbbe1d25"
   },
   "outputs": [],
   "source": [
    "raw_data = pd.read_csv(\"BikeRental.csv\")\n",
    "raw_data.keys()"
   ]
  },
  {
   "cell_type": "code",
   "execution_count": null,
   "metadata": {
    "colab": {},
    "colab_type": "code",
    "id": "5pD-q8sC4kGV",
    "outputId": "cad259cb-bb35-4ccc-94ee-6b62c789074f"
   },
   "outputs": [],
   "source": [
    "raw_data.head()"
   ]
  },
  {
   "cell_type": "code",
   "execution_count": null,
   "metadata": {
    "colab": {},
    "colab_type": "code",
    "id": "uknOMMNW4kGc",
    "outputId": "16991fc9-2257-4cb8-c5ff-f28b758aac97"
   },
   "outputs": [],
   "source": [
    "raw_data.tail()"
   ]
  },
  {
   "cell_type": "markdown",
   "metadata": {
    "colab_type": "text",
    "id": "6yJtDEad4kGf"
   },
   "source": [
    "In this file we have the following variables:\n",
    "\n",
    "- Date\n",
    "- Season (1: Winter, 2: Spring, 3: Summer, 4: Fall)\n",
    "- Year (0: 2011, 1: 2012)\n",
    "- Month (1 to 12)\n",
    "- Weekday (0 to 6 for Sunday to Saturday)\n",
    "- Hour (0 to 23)\n",
    "- Workingday (0: Weekend or Holiday, 1: Otherwise)\n",
    "- Weather (1: Clear, 2: Cloudy, 3: Light rain, 4: Heavy rain)\n",
    "- Temperature (Celsius)\n",
    "- Feeling temperature (Celsius)\n",
    "- Humidity (percentage)\n",
    "- Windspeed (km/h)\n",
    "- Count (number of rented bikes)"
   ]
  },
  {
   "cell_type": "markdown",
   "metadata": {
    "colab_type": "text",
    "id": "LTki3erM4kGg"
   },
   "source": [
    "### <span style=\"color:red\"> Question 1 </span>\n",
    "For each variable, write down what kind of data it is (Categorical, Ordinal, Discrete, Continuous)"
   ]
  },
  {
   "cell_type": "markdown",
   "metadata": {
    "colab_type": "text",
    "id": "zucqSakt4kGh"
   },
   "source": [
    "(Double click on this cell to edit its contents, and run it when you are done editing)\n",
    "\n",
    "- Season =\n",
    "- Month =\n",
    "- Weekday =\n",
    "- Workingday = \n",
    "- Weather =\n",
    "- Temperature =\n",
    "- Windspeed = \n",
    "- Count ="
   ]
  },
  {
   "cell_type": "markdown",
   "metadata": {
    "colab_type": "text",
    "id": "oVooRkdu4kGi"
   },
   "source": [
    "A good first step in any analysis is to distill the information in all the cases to a few summary statistics and graphics. As a simple example, the function describe returns a numerical summary: count, mean, standard deviation, minimum, first quartile, median, second quartile, and maximum. \n",
    "Python also has built-in functions to compute summary statistics one by one, such as the functions mean or max. "
   ]
  },
  {
   "cell_type": "code",
   "execution_count": null,
   "metadata": {
    "colab": {},
    "colab_type": "code",
    "id": "7bdhupbM4kGj",
    "outputId": "57a08a28-9d5f-44b2-9727-97e504333bec"
   },
   "outputs": [],
   "source": [
    "raw_data['temperature'].describe()"
   ]
  },
  {
   "cell_type": "code",
   "execution_count": null,
   "metadata": {
    "colab": {},
    "colab_type": "code",
    "id": "rc2bnJ5qjQzX"
   },
   "outputs": [],
   "source": [
    "print(raw_data['temperature'].mean())"
   ]
  },
  {
   "cell_type": "markdown",
   "metadata": {
    "colab_type": "text",
    "id": "Rj2_G92K4kGq"
   },
   "source": [
    "### <span style=\"color:red\"> Question 2 </span>\n",
    "Calculate the IQR of the feeling temperature and of the windspeed (and print both of them)"
   ]
  },
  {
   "cell_type": "code",
   "execution_count": null,
   "metadata": {
    "colab": {},
    "colab_type": "code",
    "id": "fnfxGeOQ4kGq"
   },
   "outputs": [],
   "source": [
    "#Your answer here!"
   ]
  },
  {
   "cell_type": "markdown",
   "metadata": {},
   "source": [
    "<span style=\"color:green\"> %%  Double click to write your interpretation here %%\n",
    "\n",
    "    "
   ]
  },
  {
   "cell_type": "markdown",
   "metadata": {
    "colab_type": "text",
    "id": "fi0YRKdxj_ny"
   },
   "source": [
    "For categorical data, it makes more sense to look at the sample frequency or relative frequency distribution. The function value_counts does this for you by counting the number of times each kind of response was given. For example, to see the number of cases that were recorded in the different seasons we can type:"
   ]
  },
  {
   "cell_type": "code",
   "execution_count": null,
   "metadata": {
    "colab": {},
    "colab_type": "code",
    "id": "sMinKwaekZFq"
   },
   "outputs": [],
   "source": [
    "raw_data['season'].value_counts()"
   ]
  },
  {
   "cell_type": "markdown",
   "metadata": {
    "colab_type": "text",
    "id": "zuiRGW4a4kGu"
   },
   "source": [
    "### Subsets of the dataset"
   ]
  },
  {
   "cell_type": "markdown",
   "metadata": {
    "colab_type": "text",
    "id": "UFqgJeym4kGu"
   },
   "source": [
    "To answer specific questions about the data, it is important that we can zoom in on different parts of the data. For example, we want to look at all the non-working days where the temperature was higher than 10°C, we can do that as follows:"
   ]
  },
  {
   "cell_type": "code",
   "execution_count": null,
   "metadata": {
    "colab": {},
    "colab_type": "code",
    "id": "4w5sb9Ns4kGv",
    "outputId": "496de2f2-5cbc-41ca-ff6e-a0940f4b4e83"
   },
   "outputs": [],
   "source": [
    "#With multiple conditions the brackets around each condition are necessary!\n",
    "no_work_temp_over_10 = raw_data[(raw_data['workingday'] == 0) & (raw_data['temperature'] > 10)]\n",
    "\n",
    "print(\"Number of items in subset:    \", no_work_temp_over_10.shape[0])\n",
    "print(\"Number of items in all data: \", raw_data.shape[0])\n",
    "no_work_temp_over_10.head()"
   ]
  },
  {
   "cell_type": "markdown",
   "metadata": {},
   "source": [
    "As can be seen above, the It's often useful to extract all individuals (cases) in a data set that have specific characteristics. We accomplish this through conditioning commands. Look at the two following expressions used in the previous piece of code: "
   ]
  },
  {
   "cell_type": "code",
   "execution_count": null,
   "metadata": {
    "scrolled": true
   },
   "outputs": [],
   "source": [
    "raw_data['workingday'] == 0"
   ]
  },
  {
   "cell_type": "code",
   "execution_count": null,
   "metadata": {},
   "outputs": [],
   "source": [
    "raw_data['temperature'] > 10"
   ]
  },
  {
   "cell_type": "markdown",
   "metadata": {},
   "source": [
    "These commands produce a series of TRUE and FALSE values. There is one value for each respondent, where TRUE indicates that it was a non-working day (via the first command) or the temperature was higher than 10 (second command).\n",
    "\n",
    "Therefore, to extract all the non-working days where the temperature was higher than 10°C, the following command was used: "
   ]
  },
  {
   "cell_type": "code",
   "execution_count": null,
   "metadata": {},
   "outputs": [],
   "source": [
    "raw_data[(raw_data['workingday'] == 0) & (raw_data['temperature'] > 10)]"
   ]
  },
  {
   "cell_type": "markdown",
   "metadata": {
    "colab_type": "text",
    "id": "Nw_FkMNnmilC"
   },
   "source": [
    "We can also look at specific cases in our data by indexing our DataFrame. For example, if we want all of the data for the first 10 respondents, we can use the `iloc` function of the dataframe."
   ]
  },
  {
   "cell_type": "code",
   "execution_count": null,
   "metadata": {
    "colab": {},
    "colab_type": "code",
    "id": "_760HK2vmzyf"
   },
   "outputs": [],
   "source": [
    "raw_data.iloc[0:10,:]"
   ]
  },
  {
   "cell_type": "markdown",
   "metadata": {
    "colab_type": "text",
    "id": "2H2OVe1VnRey"
   },
   "source": [
    "Similarly, we can look at the season of each observation by typing:"
   ]
  },
  {
   "cell_type": "code",
   "execution_count": null,
   "metadata": {
    "colab": {},
    "colab_type": "code",
    "id": "2vI3WHNvnQUR"
   },
   "outputs": [],
   "source": [
    "#Here we want to print one column, the season column, so we could also say raw_data.iloc[:,1],\n",
    "#but since we want it printed in a nice table, we can refer to the first column with \n",
    "#raw_data.iloc[:,1:2].\n",
    "\n",
    "raw_data.iloc[:,1:2]"
   ]
  },
  {
   "cell_type": "markdown",
   "metadata": {},
   "source": [
    "Or just type the column name of the one that you want to print."
   ]
  },
  {
   "cell_type": "code",
   "execution_count": null,
   "metadata": {},
   "outputs": [],
   "source": [
    "raw_data['season']"
   ]
  },
  {
   "cell_type": "markdown",
   "metadata": {
    "colab_type": "text",
    "id": "YecAXsY44kG2"
   },
   "source": [
    "### <span style=\"color:red\"> Question 3.1 </span>\n",
    "Create subsets of the following requirements (and give them fitting names), and print their head:\n",
    "\n",
    "- Season of Spring and Summer, only from Monday to Wednesday\n",
    "- Workingday from 08:00 to 20:00, or a non workingday\n",
    "- Light rainy holidays (excluding holidays during the wekend)\n",
    "- Monday to Friday, with holidays, that had more than 20 bikes rented\n",
    "- The last 10 cases in the dataset\n"
   ]
  },
  {
   "cell_type": "code",
   "execution_count": null,
   "metadata": {
    "colab": {},
    "colab_type": "code",
    "id": "hIA5Ste24kG4"
   },
   "outputs": [],
   "source": [
    "#Your code here!"
   ]
  },
  {
   "cell_type": "code",
   "execution_count": null,
   "metadata": {
    "colab": {},
    "colab_type": "code",
    "id": "zwxXUmvt4kG9"
   },
   "outputs": [],
   "source": [
    "#Your code here!"
   ]
  },
  {
   "cell_type": "code",
   "execution_count": null,
   "metadata": {
    "colab": {},
    "colab_type": "code",
    "id": "-Qo8cLka4kHA"
   },
   "outputs": [],
   "source": [
    "#Your code here!"
   ]
  },
  {
   "cell_type": "code",
   "execution_count": null,
   "metadata": {
    "colab": {},
    "colab_type": "code",
    "id": "yncxB_Oj4kHD"
   },
   "outputs": [],
   "source": [
    "#Your code here!"
   ]
  },
  {
   "cell_type": "code",
   "execution_count": null,
   "metadata": {},
   "outputs": [],
   "source": [
    "#Your code here!"
   ]
  },
  {
   "cell_type": "markdown",
   "metadata": {
    "colab_type": "text",
    "id": "SSEBHrDp4kGy"
   },
   "source": [
    "If we are simply interested in the distribution of weather over each weekday, we can simply use the `groupby` command"
   ]
  },
  {
   "cell_type": "code",
   "execution_count": null,
   "metadata": {
    "colab": {},
    "colab_type": "code",
    "id": "2gSDrZh54kGy"
   },
   "outputs": [],
   "source": [
    "raw_data.groupby('weekday')['weathersit'].value_counts().unstack()"
   ]
  },
  {
   "cell_type": "markdown",
   "metadata": {},
   "source": [
    "By doing unstack we are transforming the last level of the index to the columns. All the weathersit values are now the columns of a the dataframe and when a weather situation has not happened in a weekday, the correcponding position in the table get Nan value. For example the table above shows that there is no Wednesday with heavy rain in the dataset."
   ]
  },
  {
   "cell_type": "markdown",
   "metadata": {
    "colab_type": "text",
    "id": "mk0L2cz24kHG"
   },
   "source": [
    "### <span style=\"color:red\"> Question 3.2 </span>\n",
    "Create groups of the following criteria, and print their table:\n",
    "\n",
    "- Season and workingdays. What does the first row of the table show? \n",
    "- Month and temperature in 10 sections (hint, use the pandas function `pd.cut()` to create bins of continuous data)"
   ]
  },
  {
   "cell_type": "code",
   "execution_count": null,
   "metadata": {
    "colab": {},
    "colab_type": "code",
    "id": "R9213WbQ4kHH"
   },
   "outputs": [],
   "source": [
    "#Your code here!"
   ]
  },
  {
   "cell_type": "markdown",
   "metadata": {},
   "source": [
    "<span style=\"color:green\"> %%  Double click to write your interpretation here %%"
   ]
  },
  {
   "cell_type": "code",
   "execution_count": null,
   "metadata": {
    "colab": {},
    "colab_type": "code",
    "id": "bwRVgT2L4kHL"
   },
   "outputs": [],
   "source": [
    "#Your code here!"
   ]
  },
  {
   "cell_type": "markdown",
   "metadata": {
    "colab_type": "text",
    "id": "xPdL8OY74kHO"
   },
   "source": [
    "### Plotting your data"
   ]
  },
  {
   "cell_type": "markdown",
   "metadata": {
    "colab_type": "text",
    "id": "9j0BYQPE4kHP"
   },
   "source": [
    "Plotting your data (correctly) is very important. There are many possible plots you could use and some are better than others for a given dataset or data type. To create nice plots, we will be using the `Seaborn` library, which is based on Matplotlib. In the first cell where we import libraries we already included this library with `import seaborn as sns`. Below are some examples"
   ]
  },
  {
   "cell_type": "code",
   "execution_count": null,
   "metadata": {
    "colab": {},
    "colab_type": "code",
    "id": "9_YbF8YR4kHQ",
    "outputId": "ee34461f-4c82-4f96-f940-2e922687a841"
   },
   "outputs": [],
   "source": [
    "plt.figure(figsize=(6,5))\n",
    "sns.countplot(x=raw_data['weathersit'])\n",
    "plt.show()"
   ]
  },
  {
   "cell_type": "code",
   "execution_count": null,
   "metadata": {},
   "outputs": [],
   "source": [
    "plt.figure(figsize=(8,5))\n",
    "sns.displot(x=raw_data['feeling temperature'], kde=False, rug=False, bins = 20)\n",
    "plt.show()"
   ]
  },
  {
   "cell_type": "markdown",
   "metadata": {},
   "source": [
    "We can construct a box plot for a single variable with the following command:"
   ]
  },
  {
   "cell_type": "code",
   "execution_count": null,
   "metadata": {
    "colab": {},
    "colab_type": "code",
    "id": "rUpWoegv4kHT",
    "outputId": "a3b66b71-2ba3-4c46-9845-86ce4dca3db4"
   },
   "outputs": [],
   "source": [
    "plt.figure(figsize=(2,8))\n",
    "sns.boxplot(y = raw_data['windspeed'])\n",
    "plt.show()"
   ]
  },
  {
   "cell_type": "markdown",
   "metadata": {},
   "source": [
    "The purpose of a boxplot is to provide a thumbnail sketch of a variable for the purpose of comparing across several categories. So we can, for example, compare the temperature across the four seasons by:"
   ]
  },
  {
   "cell_type": "code",
   "execution_count": null,
   "metadata": {
    "colab": {},
    "colab_type": "code",
    "id": "_4-Rphxv4kHW",
    "outputId": "cdbdb681-5a5f-4309-f93b-dd0c39f02ac0"
   },
   "outputs": [],
   "source": [
    "plt.figure(figsize=(8,8))\n",
    "sns.boxplot(x = raw_data['season'], y = raw_data['temperature'])\n",
    "plt.show()"
   ]
  },
  {
   "cell_type": "markdown",
   "metadata": {},
   "source": [
    "For visualization of associations, we usually use scatter plots. For Example, let's plot the scatter plot of the number of bikes rented versus temperature:"
   ]
  },
  {
   "cell_type": "code",
   "execution_count": null,
   "metadata": {},
   "outputs": [],
   "source": [
    "plt.figure(figsize=(10,8))\n",
    "sns.scatterplot(x = raw_data['temperature'], y = raw_data['count'])\n",
    "plt.title(\"Count vs Temperature\", fontsize = \"xx-large\")"
   ]
  },
  {
   "cell_type": "markdown",
   "metadata": {},
   "source": [
    "Looking at the scatter plot of the number of rented bikes versus temperature, what can you say about association between these two variables?"
   ]
  },
  {
   "cell_type": "markdown",
   "metadata": {},
   "source": [
    "<span style=\"color:green\"> %%  Double click to write your answer here %%"
   ]
  },
  {
   "cell_type": "markdown",
   "metadata": {},
   "source": [
    "Now let's look at the scatter plot of the number of rented bikes versus season:"
   ]
  },
  {
   "cell_type": "code",
   "execution_count": null,
   "metadata": {},
   "outputs": [],
   "source": [
    "plt.figure(figsize=(5,8))\n",
    "sns.scatterplot(x = raw_data['season'], y = raw_data['count'])\n",
    "plt.title(\"Count vs Season\", fontsize = \"xx-large\")"
   ]
  },
  {
   "cell_type": "markdown",
   "metadata": {},
   "source": [
    "As can be seen in the plot, it is hard to assess association as the explanatory variable is categorical. In cases like this, a box plot makes it easier to search for association:"
   ]
  },
  {
   "cell_type": "code",
   "execution_count": null,
   "metadata": {},
   "outputs": [],
   "source": [
    "plt.figure(figsize=(8,8))\n",
    "sns.boxplot(x = raw_data['season'], y = raw_data['count'])\n",
    "plt.show()"
   ]
  },
  {
   "cell_type": "markdown",
   "metadata": {},
   "source": [
    "In the above plot, it can be seen that the number of rented bikes is associated with the season as the median of the count changes with different seasons."
   ]
  },
  {
   "cell_type": "markdown",
   "metadata": {
    "colab_type": "text",
    "id": "WzBzGctv4kHc"
   },
   "source": [
    "# <span style=\"color:red\"> Question 4 </span>\n",
    "\n",
    "Now it is time for you to create some plots! Use the Pandas documentation to see the different kinds of plots you can use, as well as more options. Answer the following questions, and motivate your answers with plots.\n",
    "\n",
    "- What do you think is more strongly associated with the number of rented bikes, the weather situation, or the feeling temperature being higher than 35? (You can use two box plots one for each variable and compare associations)\n",
    "- Are more bikes rented more on non-working days vs working days?\n",
    "- Is there an association between the feeling temperature and humidity?\n",
    "- Which month has the most bike rentals? (You can use \"sns.barplot(x = , y = ,...)\" to make bar plot)\n",
    "- Can you figure out which of the four variables: temperature, feeling temperature, humidity, and windspeed, are most strongly associated with the number of rented bikes?   \n",
    "\n"
   ]
  },
  {
   "cell_type": "code",
   "execution_count": null,
   "metadata": {
    "colab": {},
    "colab_type": "code",
    "id": "JLbpiicD4kHc"
   },
   "outputs": [],
   "source": [
    "#Your code here!"
   ]
  },
  {
   "cell_type": "markdown",
   "metadata": {},
   "source": [
    "<span style=\"color:green\"> %%  Double click to write your motivation here %%"
   ]
  },
  {
   "cell_type": "code",
   "execution_count": null,
   "metadata": {
    "colab": {},
    "colab_type": "code",
    "id": "olj_bx3d4kHf"
   },
   "outputs": [],
   "source": [
    "#Your code here!"
   ]
  },
  {
   "cell_type": "markdown",
   "metadata": {},
   "source": [
    "<span style=\"color:green\"> %%  Double click to write your motivation here %%"
   ]
  },
  {
   "cell_type": "code",
   "execution_count": null,
   "metadata": {
    "colab": {},
    "colab_type": "code",
    "id": "jUMgUGXi4kHk"
   },
   "outputs": [],
   "source": [
    "#Your code here!"
   ]
  },
  {
   "cell_type": "markdown",
   "metadata": {},
   "source": [
    "<span style=\"color:green\"> %%  Double click to write your motivation here %%"
   ]
  },
  {
   "cell_type": "code",
   "execution_count": null,
   "metadata": {
    "colab": {},
    "colab_type": "code",
    "id": "ByAGcSye4kHo"
   },
   "outputs": [],
   "source": [
    "#Your code here!"
   ]
  },
  {
   "cell_type": "markdown",
   "metadata": {},
   "source": [
    "<span style=\"color:green\"> %%  Double click to write your motivation here %%"
   ]
  },
  {
   "cell_type": "code",
   "execution_count": null,
   "metadata": {},
   "outputs": [],
   "source": [
    "#Your code here!"
   ]
  },
  {
   "cell_type": "markdown",
   "metadata": {},
   "source": [
    "<span style=\"color:green\"> %%  Double click to write your motivation here %%"
   ]
  }
 ],
 "metadata": {
  "colab": {
   "name": "Assignment_1.ipynb",
   "provenance": []
  },
  "kernelspec": {
   "display_name": "Python 3 (ipykernel)",
   "language": "python",
   "name": "python3"
  },
  "language_info": {
   "codemirror_mode": {
    "name": "ipython",
    "version": 3
   },
   "file_extension": ".py",
   "mimetype": "text/x-python",
   "name": "python",
   "nbconvert_exporter": "python",
   "pygments_lexer": "ipython3",
   "version": "3.9.7"
  }
 },
 "nbformat": 4,
 "nbformat_minor": 1
}
